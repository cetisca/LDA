{
 "cells": [
  {
   "cell_type": "markdown",
   "metadata": {},
   "source": [
    "### Initialisations"
   ]
  },
  {
   "cell_type": "code",
   "execution_count": 2,
   "metadata": {},
   "outputs": [
    {
     "name": "stdout",
     "output_type": "stream",
     "text": [
      "We have loaded 100 documents and 4893 words in total!\n"
     ]
    }
   ],
   "source": [
    "from gensim.corpora.dictionary import Dictionary\n",
    "import os\n",
    "import numpy as np\n",
    "\n",
    "# select the number of documents to parse\n",
    "Subset = 100 #10769\n",
    "N_Topics = 10\n",
    "\n",
    "FolderToParse = \"BoW_100random/\"#\"BagsOfWords/\"\n",
    "DocList = []\n",
    "for document in os.listdir( FolderToParse ):\n",
    "    # load documents\n",
    "    FileToLoad = FolderToParse + document\n",
    "    f = open(FileToLoad,'rb')\n",
    "    words = f.read().decode('ascii', 'ignore')\n",
    "    f.close()\n",
    "    words = words.split() # tokenize\n",
    "    DocList.append(words)\n",
    "    \n",
    "DocList = DocList[:Subset]\n",
    "# Load the names of species\n",
    "with open('list_of_species.txt', encoding='utf-8', errors='ignore') as f:\n",
    "    Names = f.readlines()\n",
    "Names = [x.strip() for x in Names]\n",
    "\n",
    "# Create dictionary [ID to word]\n",
    "common_dictionary = Dictionary(DocList)\n",
    "# Create text to words mappings & count\n",
    "common_corpus = [common_dictionary.doc2bow(text) for text in DocList]\n",
    "print(\"We have loaded {0} documents and {1} words in total!\".format(len(DocList), len(common_dictionary)))"
   ]
  },
  {
   "cell_type": "markdown",
   "metadata": {},
   "source": [
    "### Other utilities"
   ]
  },
  {
   "cell_type": "code",
   "execution_count": null,
   "metadata": {},
   "outputs": [],
   "source": [
    "Distances = np.load('100New_Doc_Distances.npy')\n",
    "def ComputeDistances(D, C1, C2):\n",
    "    \"\"\"\n",
    "        Function that, given two sets of indices C1, C2 and a matrix D with  \n",
    "        distances calculated for every pair, it computes the average distance.\n",
    "    \"\"\"\n",
    "    S=0\n",
    "    for i in range(len(C1)):\n",
    "        for j in range(len(C2)):\n",
    "            S += D[ C1[i], C2[j] ]\n",
    "    return S/(len(C1)*len(C2))\n",
    "     \n",
    "def EvalClustering(D, Clustering):\n",
    "    \"\"\"\n",
    "        Function that, given a set clusters and a matrix D with distances calculated \n",
    "        for every pair of points, evaluates the accuracy of the partition.\n",
    "        Intra : the average distance for points within one cluster\n",
    "        Inter : the average distance between points from different clusters.\n",
    "    \"\"\"\n",
    "    N_K = len(Clustering)\n",
    "    ClusterDist = np.zeros( (N_K,N_K) )\n",
    "    for c1 in range(N_K):\n",
    "        if len(Clustering[c1])>0:\n",
    "            for c2 in range(c1,N_K):\n",
    "                #first we compute the intra-cluster distance\n",
    "                if len(Clustering[c2])>0:\n",
    "                    ClusterDist[c1,c2] = ComputeDistances(D, list(Clustering[c1]), list(Clustering[c2]))\n",
    "    # evaluate\n",
    "    intra = np.mean(np.diag(ClusterDist))\n",
    "    print('Mean Within-Cluster distance = {0:.3f}.'.format(intra))\n",
    "    inter = np.sum(np.triu(ClusterDist,1))*2/(N_K-1)/N_K\n",
    "    print('Mean Inter-Cluster distance = {0:.3f}.'.format(inter))\n",
    "    return intra, inter, ClusterDist"
   ]
  },
  {
   "cell_type": "markdown",
   "metadata": {},
   "source": [
    "### 1. LDA by gensim"
   ]
  },
  {
   "cell_type": "code",
   "execution_count": null,
   "metadata": {
    "scrolled": true
   },
   "outputs": [],
   "source": [
    "from gensim.models import LdaModel\n",
    "# Train the model on the corpus.\n",
    "lda = LdaModel(common_corpus, num_topics=N_Topics,alpha='asymmetric', random_state=1)\n",
    "# Now produce probabilities based on the Corpus\n",
    "LDAvectors = []\n",
    "for i in range(len(DocList)):\n",
    "    # first we translate using the dictionary that we have already\n",
    "    temp = [ common_dictionary.doc2bow(text.split()) for text in DocList[i] ]\n",
    "    vector = lda[temp[0]]\n",
    "    LDAvectors.append( vector )\n",
    "print('LDA is complete!')\n",
    "\n",
    "# Clustering #\n",
    "ClustersLDA = { i:[] for i in range(N_Topics)}# initialize the dictictionary of clusters\n",
    "ClustersNames = { i:[] for i in range(N_Topics)} \n",
    "Labels = []\n",
    "for i in range(len(DocList)):\n",
    "    distr = [ x[1] for x in LDAvectors[i]]\n",
    "    # find the argmax{distr} - ATTENTION: ties ???\n",
    "    label = distr.index(max(distr))\n",
    "    ClustersLDA[label].append(i)\n",
    "    ClustersNames[label].append(Names[i])\n",
    "    Labels.append( label )\n",
    "    \n",
    "# Evaluate\n",
    "t = EvalClustering(Distances, ClustersLDA)"
   ]
  },
  {
   "cell_type": "markdown",
   "metadata": {},
   "source": [
    "### 2. LDA by Scikit-learn"
   ]
  },
  {
   "cell_type": "code",
   "execution_count": null,
   "metadata": {},
   "outputs": [],
   "source": [
    "from sklearn.feature_extraction.text import TfidfVectorizer\n",
    "from sklearn.decomposition import LatentDirichletAllocation\n",
    "# we need the raw texts as input for this method\n",
    "FolderToParse = \"BoW_100random/\"#\"Data_Part/\" #pagecontent_as_text/\"\n",
    "RawTexts = []; N=0\n",
    "for document in os.listdir( FolderToParse ):\n",
    "    # load document\n",
    "    FileToLoad = FolderToParse + document\n",
    "    # Load text file of wikipedia entry on bird species\n",
    "    f = open(FileToLoad,'rb')\n",
    "    # we ignore non-printable (strange) letters and symbols !\n",
    "    text = f.read().decode('ascii', 'ignore')\n",
    "    f.close()\n",
    "    RawTexts.append(text)\n",
    "RawTexts = RawTexts[:Subset] # just in case we need a subset of the dataset\n",
    "    \n",
    "vectorizer = TfidfVectorizer(max_df=0.3, max_features=60000, min_df=1, stop_words='english', use_idf=True)\n",
    "X = vectorizer.fit_transform(RawTexts)\n",
    "print(\"n_samples: %d, n_features: %d\" % X.shape)\n",
    "LDA_SKL = LatentDirichletAllocation(n_topics = N_Topics, max_iter=100, random_state=20)\n",
    "LDA_SKL.fit(X)\n",
    "print(\"Clustering sparse data with %s\" % LDA_SKL)\n",
    "# get doc-topic distributions\n",
    "LDA_SKLvectors = LDA_SKL.transform(X)\n",
    "\n",
    "# Clustering - Black and white approach, as before\n",
    "ClustersSKL = { i:[] for i in range(N_Topics)}\n",
    "LabelsSKL = []\n",
    "for i in range(len(DocList)):\n",
    "    distr = list(LDA_SKLvectors[i])\n",
    "    # find the argmax{distr} - ATTENTION: ties ???\n",
    "    label = distr.index(max(distr))\n",
    "    ClustersSKL[label].append(i)\n",
    "    LabelsSKL.append( label )\n",
    "    \n",
    "# Evaluate\n",
    "t = EvalClustering(Distances, ClustersSKL)"
   ]
  },
  {
   "cell_type": "markdown",
   "metadata": {},
   "source": [
    "### 3. K-Means with SVD"
   ]
  },
  {
   "cell_type": "code",
   "execution_count": null,
   "metadata": {},
   "outputs": [],
   "source": [
    "from sklearn.cluster import KMeans\n",
    "from sklearn.pipeline import make_pipeline\n",
    "from sklearn.preprocessing import Normalizer\n",
    "from sklearn.decomposition import TruncatedSVD\n",
    "# Dimensionality reduction\n",
    "svd = TruncatedSVD(1000)\n",
    "normalizer = Normalizer(copy=False)\n",
    "lsa = make_pipeline(svd, normalizer)\n",
    "# we use the same X as before\n",
    "vectorizer = TfidfVectorizer(max_df=0.3, max_features=60000, min_df=1, stop_words='english', use_idf=True)\n",
    "X = vectorizer.fit_transform(RawTexts)\n",
    "X = lsa.fit_transform(X)\n",
    "print(\"n_samples: %d, n_features: %d\" % X.shape)\n",
    "km = KMeans(n_clusters=N_Topics, init='k-means++', max_iter=100, n_init=1, random_state=10)\n",
    "print(\"Clustering sparse data with %s\" % km)\n",
    "km.fit(X)\n",
    "\n",
    "# create the clusters\n",
    "ClustersKM = { i:[] for i in range(N_Topics)}\n",
    "LabelsKM = list(km.labels_)\n",
    "for i in range(len(DocList)):\n",
    "    ClustersKM[LabelsKM[i]].append(i)\n",
    "    \n",
    "# Evaluate\n",
    "t = EvalClustering(Distances, ClustersKM)"
   ]
  },
  {
   "cell_type": "markdown",
   "metadata": {},
   "source": [
    "### 4. Our LDA Implementation"
   ]
  },
  {
   "cell_type": "code",
   "execution_count": null,
   "metadata": {},
   "outputs": [
    {
     "name": "stdout",
     "output_type": "stream",
     "text": [
      "Starting the big loop...\n",
      "More than 1.0 % is completed! Rate = 8.232674360275269\n"
     ]
    }
   ],
   "source": [
    "# Implement LDA\n",
    "# Number matrix (Replacing words in documents with word IDs)\n",
    "from time import time\n",
    "N_K = 5 # set the number of topics\n",
    "N_D = len(DocList)\n",
    "corpus=np.unique(np.concatenate(DocList),axis=0)\n",
    "N_W = corpus.shape[0] # words in the vocabulary\n",
    "\n",
    "# SELECT #iterations\n",
    "T=100\n",
    "\n",
    "X_number = np.copy(DocList)\n",
    "for doc_number in range(X_number.shape[0]):\n",
    "    for doc_length in range(len(X_number[doc_number])):\n",
    "        X_number[doc_number][doc_length]=  np.where(corpus==X_number[doc_number][doc_length])[0][0]\n",
    "        \n",
    "# Dirichlet priors\n",
    "alpha = 1 # Choice of alpha affects document clustering \n",
    "gamma = 1\n",
    "\n",
    "#Z = np.copy(X_number)\n",
    "#for doc_number in range(Z.shape[0]):\n",
    "#    for doc_length in range(len(Z[doc_number])):\n",
    "#        Z[doc_number][doc_length]= np.random.randint(N_K)\n",
    "        \n",
    "Z = []#[np.array(N_D, dtype=object)]\n",
    "for doc in range(N_D):\n",
    "    Z.append( np.random.randint(N_K, size=len(DocList[doc])) )\n",
    "        \n",
    "# Pi := document topic distribution\n",
    "Pi = np.zeros([N_D, N_K])\n",
    "for i in range(N_D):\n",
    "    Pi[i] = np.random.dirichlet(alpha*np.ones(N_K))\n",
    "\n",
    "A = Pi\n",
    "#print(A)\n",
    "\n",
    "# B := word topic distribution\n",
    "B = np.zeros([N_K, N_W])\n",
    "for k in range(N_K):\n",
    "    B[k] = np.random.dirichlet(gamma*np.ones(N_W))\n",
    "t0 = time()    \n",
    "print(\"Starting the big loop...\")    \n",
    "for iterations in range(T):  #Need at least 1000 iterations for Gibbs sampling to work!\n",
    "\n",
    "    # Updating Z matrix\n",
    "    for doc_number in range(N_D):     \n",
    "        for doc_length in range(len(Z[doc_number])):     \n",
    "            # Calculate params for Z\n",
    "            p_iv = np.exp(np.log(Pi[doc_number]) + np.log( B[:, X_number[doc_number][ doc_length]] ))\n",
    "            p_iv /= np.sum(p_iv)\n",
    "\n",
    "             # Resample word topic assignment Z\n",
    "            Z[doc_number][doc_length] = np.random.multinomial(1, p_iv).argmax()\n",
    "    # Updating Pi   \n",
    "    for i in range(N_D):\n",
    "        # Gather sufficient statistics\n",
    "        ###m = np.zeros(N_K)\n",
    "        ###for k in range(N_K):\n",
    "        ###    m[k] = np.sum(Z[i] == k)\n",
    "        \n",
    "        m = np.array( [np.sum(Z[i] == k) for k in range(N_K)] )\n",
    "        # Resample doc topic dist.\n",
    "        Pi[i, :] = np.random.dirichlet(alpha + m)\n",
    "        \n",
    "    #Updating B\n",
    "    for k in range(N_K):\n",
    "        #print(k)\n",
    "        n = np.zeros(N_W) \n",
    "    \n",
    "        #Gather statistics       \n",
    "        for v in range(N_W):\n",
    "            for doc_number in range(N_D):\n",
    "                n[v] = len([ x for x in np.where(X_number[doc_number] == v) if Z[doc_number][x] ==k ])\n",
    "                ###for doc_length in range(len(Z[doc_number])):\n",
    "                ###    n[v] += (X_number[doc_number][ doc_length]==v) and (Z[doc_number][doc_length] ==k)\n",
    "        \n",
    "        # Resample word topic distribution\n",
    "        B[k,:] = np.random.dirichlet(gamma+n)\n",
    "    #progress check\n",
    "    if (iterations-1)%10==0:\n",
    "        print(\"More than {0} % is completed! Rate = {1}\".format(100*iterations/T, (time()-t0)/iterations))\n",
    "print('LDA is complete! Total time = {0}'.format(time()-t0))"
   ]
  },
  {
   "cell_type": "code",
   "execution_count": null,
   "metadata": {},
   "outputs": [],
   "source": [
    "s=0\n",
    "for doc_length in range(len(Z[doc_number])):\n",
    "   s += (X_number[doc_number][ doc_length]==v) and (Z[doc_number][doc_length] ==k)"
   ]
  },
  {
   "cell_type": "code",
   "execution_count": null,
   "metadata": {},
   "outputs": [],
   "source": [
    "print('LDA is complete! Total time = {0}'.format(time()-t0))"
   ]
  },
  {
   "cell_type": "code",
   "execution_count": null,
   "metadata": {},
   "outputs": [],
   "source": [
    "# save it!\n",
    "LDAdistr = Pi\n",
    "#np.save('100New_LDAdistr.npy',LDAdistr)"
   ]
  },
  {
   "cell_type": "code",
   "execution_count": null,
   "metadata": {},
   "outputs": [],
   "source": [
    "# Clustering #\n",
    "ClustersOUR = { i:[] for i in range(N_Topics)}# initialize the dictictionary of clusters\n",
    "for i in range(len(DocList)):\n",
    "    #distr = [ x[1] for x in Pi[i]]\n",
    "    # find the argmax{distr} - ATTENTION: ties ???\n",
    "    label = np.argmax(Pi[i])\n",
    "    ClustersOUR[label].append(i)\n",
    "    \n",
    "# Evaluate\n",
    "t = EvalClustering(Distances, ClustersOUR)"
   ]
  },
  {
   "cell_type": "markdown",
   "metadata": {},
   "source": [
    "### 5. LDA and Improved Clustering"
   ]
  },
  {
   "cell_type": "code",
   "execution_count": null,
   "metadata": {},
   "outputs": [],
   "source": [
    "# create doc-word list of lists\n",
    "\"\"\"\n",
    "corpus=np.unique(np.concatenate(DocList))\n",
    "TDM = np.zeros((len(common_dictionary),N_D)) # we start by a full matrix and then transform it\n",
    "for doc in range(N_D):\n",
    "    temp = np.unique( DocList[doc] ) # get the different words on this document\n",
    "    #temp2 = np.zeros((N_V,1))\n",
    "    for i in range( len(temp) ):\n",
    "        word = temp[i]\n",
    "        count = len([ x for x in DocList[doc] if x == word])\n",
    "        # we must get the index of this word in the (total) corpus\n",
    "        TDM[ np.where(corpus == word) , doc] = count\n",
    "\n",
    "# sanity check\n",
    "for doc in range(N_D):\n",
    "    if sum(TDM[:,doc])!=len(DocList[doc]):\n",
    "        print(\"Doc-{0} has a problem!\".format(doc))\n",
    "  \n",
    "TDM = np.transpose(TDM)\n",
    "\"\"\"\n",
    "#print(\"n_samples: %d, n_features: %d\" % TDM.shape)\n",
    "#LDA_SKL = LatentDirichletAllocation(n_topics = 100, max_iter=50, random_state=1)\n",
    "#LDA_SKL.fit( TDM )\n",
    "# get doc-topic distributions\n",
    "#LDA_SKLvectors = LDA_SKL.transform(TDM)\n",
    "km = KMeans(n_clusters=3, init='k-means++', max_iter=100, n_init=1, random_state=1)\n",
    "print(\"Clustering LDA data with %s\" % km)\n",
    "km.fit(LDA_SKLvectors)\n",
    "\n",
    "# create the clusters\n",
    "ClustersXX = { i:[] for i in range(N_Topics)}\n",
    "LabelsXX = list(km.labels_)\n",
    "for i in range(len(DocList)):\n",
    "    ClustersXX[LabelsXX[i]].append(i)\n",
    "    \n",
    "# Evaluate\n",
    "t = EvalClustering(Distances, ClustersXX)"
   ]
  },
  {
   "cell_type": "markdown",
   "metadata": {},
   "source": [
    "### 6. Clustering with random assigning"
   ]
  },
  {
   "cell_type": "code",
   "execution_count": null,
   "metadata": {},
   "outputs": [],
   "source": [
    "ClustersRAND = { i:[] for i in range(N_Topics)}# initialize the dictictionary of clusters\n",
    "for i in range(len(DocList)):\n",
    "    #distr = [ x[1] for x in Pi[i]]\n",
    "    # find the argmax{distr} - ATTENTION: ties ???\n",
    "    label = np.random.randint(N_K)\n",
    "    ClustersRAND[label].append(i)\n",
    "    \n",
    "# Evaluate\n",
    "t = EvalClustering(Distances, ClustersRAND)"
   ]
  }
 ],
 "metadata": {
  "kernelspec": {
   "display_name": "Python 3",
   "language": "python",
   "name": "python3"
  },
  "language_info": {
   "codemirror_mode": {
    "name": "ipython",
    "version": 3
   },
   "file_extension": ".py",
   "mimetype": "text/x-python",
   "name": "python",
   "nbconvert_exporter": "python",
   "pygments_lexer": "ipython3",
   "version": "3.4.3"
  }
 },
 "nbformat": 4,
 "nbformat_minor": 1
}
