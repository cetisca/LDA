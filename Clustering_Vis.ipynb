{
 "cells": [
  {
   "cell_type": "markdown",
   "metadata": {},
   "source": [
    "## Clustering Visualisation"
   ]
  },
  {
   "cell_type": "code",
   "execution_count": 84,
   "metadata": {},
   "outputs": [
    {
     "name": "stdout",
     "output_type": "stream",
     "text": [
      "there are 457 items in vocab_frame\n"
     ]
    }
   ],
   "source": [
    "import numpy as np\n",
    "\n",
    "species = ['bird1', 'bird2', 'bird3', 'bird4', 'bird5', 'bird6']\n",
    "\n",
    "articles = np.array([['abdim', 'stork', 'ciconia', 'abdimii', 'also', 'known', 'white', 'bellied', 'stork', 'black', 'stork', 'grey', 'leg', 'red', 'knee', 'foot', 'grey', 'bill', 'white', 'underpart', 'red', 'facial', 'skin', 'front', 'eye', 'blue', 'skin', 'near', 'bill', 'breeding', 'season', 'smallest', 'specie', 'stork', 'weight', 'lb', 'female', 'lay', 'two', 'three', 'egg', 'slightly', 'smaller', 'male', 'abdim', 'stork', 'distributed', 'open', 'habitat', 'throughout', 'eastern', 'africa', 'ethiopia', 'south', 'south', 'africa', 'diet', 'consists', 'mainly', 'locust', 'caterpillar', 'large', 'insect', 'although', 'bird', 'also', 'eat', 'small', 'reptile', 'amphibian', 'mouse', 'crab', 'egg', 'among', 'smallest', 'stork', 'specie', 'welcomed', 'protected', 'local', 'african', 'belief', 'harbinger', 'rain', 'good', 'luck', 'name', 'commemorates', 'turkish', 'governor', 'wadi', 'halfa', 'sudan', 'bey', 'arnaut', 'abdim', 'widespread', 'common', 'throughout', 'large', 'range', 'abdim', 'stork', 'evaluated', 'least', 'concern', 'iucn', 'red', 'list', 'threatened', 'specie', 'subject', 'several', 'nationally', 'coordinated', 'breeding', 'program', 'united', 'state', 'plan', 'specie', 'administered', 'association', 'zoo', 'aquarium', 'europe', 'european', 'association', 'zoo', 'aquarium', 'san', 'diego', 'zoo', 'egg', 'ciconia', 'abdimii', 'muséum', 'toulouse', 'africa', 'distribution', 'abdim', 'stork'], #each row represents an individual document\n",
    "                     ['abd', 'kuri', 'sparrow', 'passer', 'hemileucus', 'passerine', 'bird', 'endemic', 'small', 'island', 'abd', 'kuri', 'also', 'spelled', 'several', 'way', 'socotra', 'archiplago', 'indian', 'ocean', 'horn', 'africa', 'though', 'specie', 'originally', 'described', 'distinct', 'specie', 'considered', 'conspecific', 'socotra', 'sparrow', 'study', 'guy', 'kirwan', 'showed', 'significant', 'difference', 'socotra', 'sparrow', 'two', 'sparrow', 'might', 'even', 'different', 'origin', 'evidence', 'morphologically', 'distinct', 'birdlife', 'international', 'hence', 'iucn', 'red', 'list', 'recognised', 'specie', 'listed', 'ioc', 'world', 'bird', 'list', 'december', 'restricted', 'distribution', 'population', 'individual', 'despite', 'known', 'threat', 'considered', 'vulnerable', 'specie', 'iucn', 'red', 'list'],\n",
    "                     ['nectarinia', 'sovimanga', 'souimanga', 'sunbird', 'cinnyris', 'sovimanga', 'small', 'passerine', 'bird', 'sunbird', 'family', 'nectariniidae', 'native', 'island', 'western', 'indian', 'ocean', 'occurs', 'madagascar', 'aldabra', 'group', 'glorioso', 'island', 'souimanga', 'sunbird', 'long', 'wingspan', 'black', 'bill', 'long', 'thin', 'curved', 'male', 'nominate', 'subspecies', 'metallic', 'green', 'head', 'back', 'throat', 'breast', 'blackish', 'le', 'continuous', 'red', 'band', 'belly', 'yellow', 'wing', 'tail', 'brown', 'yellow', 'tuft', 'side', 'breast', 'become', 'visible', 'bird', 'lift', 'wing', 'courtship', 'display', 'male', 'presumably', 'moult', 'duller', 'eclipse', 'plumage', 'march', 'april', 'losing', 'metallic', 'red', 'feathering', 'month', 'female', 'grey', 'brown', 'upperparts', 'dull', 'yellow', 'belly', 'grey', 'throat', 'breast', 'darker', 'marking', 'juvenile', 'similar', 'adult', 'female', 'chin', 'throat', 'sometimes', 'black', 'upperparts', 'may', 'olive', 'abbott', 'sunbirds', 'see', 'larger', 'long', 'wingspan', 'male', 'broader', 'red', 'breastband', 'yellow', 'underpart', 'dark', 'brown', 'ssp', 'abbotti', 'blackish', 'ssp', 'buchenorum', 'male', 'bird', 'nominate', 'group', 'wing', 'tail', 'long', 'bill', 'female', 'measure', 'le', 'bird', 'chirruping', 'flight', 'call', 'loud', 'hoarse', 'alarm', 'call', 'male', 'sings', 'fast', 'scratchy', 'song', 'frequently', 'repeated', 'phrase', 'five', 'subspecies', 'nominate', 'subspecies', 'sovimanga', 'found', 'across', 'madagascar', 'glorioso', 'island', 'south', 'western', 'madagascar', 'replaced', 'apolis', 'aldabrensis', 'aldabra', 'atoll', 'abbotti', 'assumption', 'island', 'buchenorum', 'cosmoledo', 'astove', 'form', 'abbotti', 'buchenorum', 'sometimes', 'considered', 'separate', 'specie', 'abbott', 'sunbird', 'would', 'called', 'cinnyris', 'abbotti', 'citation', 'needed', 'sunbird', 'one', 'separated', 'former', 'catch', 'genus', 'nectarinia', 'cinnyris', 'citation', 'needed', 'together', 'malagasy', 'white', 'eye', 'madagascan', 'cisticola', 'souimanga', 'sunbirds', 'common', 'small', 'landbirds', 'across', 'much', 'range', 'ample', 'stock', 'present', 'specie', 'white', 'eye', 'exist', 'maybe', 'square', 'habitat', 'glorioso', 'island', 'iucn', 'considers', 'specie', 'least', 'concern', 'souimanga', 'sunbird', 'found', 'variety', 'habitat', 'mountain', 'forest', 'mangrove', 'scrubland', 'well', 'park', 'garden', 'human', 'modified', 'ecosystem', 'use', 'curved', 'bill', 'probe', 'flower', 'nectar', 'also', 'feed', 'insect', 'spider', 'natural', 'enemy', 'nest', 'inaccessible', 'predator', 'long', 'breeding', 'season', 'last', 'august', 'march', 'aldabra', 'least', 'nest', 'dome', 'shaped', 'entrance', 'hole', 'side', 'made', 'plant', 'material', 'grass', 'stem', 'coconut', 'fibre', 'leaf', 'usually', 'suspended', 'branch', 'metre', 'ground', 'may', 'built', 'building', 'sinkhole', 'within', 'eroded', 'coral', 'two', 'egg', 'laid', 'incubated', 'day', 'whitish', 'reddish', 'mottling', 'young', 'bird', 'fledge', 'day', 'nest', 'building', 'incubation', 'egg', 'done', 'female', 'also', 'play', 'greater', 'role', 'male', 'feeding', 'chick'],\n",
    "                     ['abyssian', 'wheatear', 'oenanthe', 'lugubris', 'specie', 'bird', 'family', 'muscicapidae', 'found', 'northwestern', 'africa', 'southern', 'kenya', 'northeastern', 'tanzania'],\n",
    "                     ['abyssinian', 'white', 'eye', 'white', 'breasted', 'white', 'eye', 'zosterops', 'abyssinicus', 'small', 'passerine', 'bird', 'belonging', 'genus', 'zosterops', 'white', 'eye', 'family', 'zosteropidae', 'native', 'north', 'east', 'africa', 'southern', 'arabia', 'long', 'upperparts', 'green', 'darker', 'greyer', 'northern', 'race', 'narrow', 'white', 'ring', 'around', 'eye', 'thin', 'black', 'line', 'bill', 'eye', 'underpart', 'vary', 'pale', 'yellow', 'greyish', 'white', 'depending', 'race', 'bird', 'various', 'twittering', 'buzzing', 'call', 'africa', 'occurs', 'north', 'east', 'sudan', 'south', 'eritrea', 'ethiopia', 'northern', 'somalia', 'kenya', 'north', 'east', 'tanzania', 'also', 'found', 'socotra', 'island', 'arabia', 'occurs', 'south', 'west', 'saudi', 'arabia', 'yemen', 'southern', 'oman', 'occurs', 'open', 'woodland', 'scrub', 'wadi', 'garden', 'found', 'metre', 'sea', 'level', 'africa', 'metre', 'arabia', 'usually', 'forage', 'among', 'branch', 'tree', 'sometimes', 'descends', 'ground', 'level', 'feed', 'mainly', 'insect', 'also', 'take', 'nectar', 'flower'],\n",
    "                     ['picus', 'abyssinicus', 'abyssinian', 'woodpecker', 'dendropicos', 'abyssinicus', 'also', 'known', 'golden', 'backed', 'woodpecker', 'golden', 'mantled', 'woodpecker', 'specie', 'bird', 'woodpecker', 'family', 'picidae', 'native', 'africa', 'occurs', 'eritrea', 'ethiopia', 'appears', 'close', 'relative', 'cardinal', 'woodpecker', 'dendropicos', 'fuscescens', 'abyssinian', 'woodpecker', 'small', 'woodpecker', 'relatively', 'long', 'broad', 'bill', 'golden', 'yellow', 'back', 'mantle', 'bright', 'red', 'rump', 'barred', 'wing', 'barred', 'tail', 'underpart', 'pale', 'heavily', 'streaked', 'black', 'head', 'striped', 'male', 'distinguished', 'red', 'nape', 'crown', 'brown', 'stripe', 'eye', 'golden', 'mantle', 'separate', 'specie', 'related', 'cardinal', 'woodpecker', 'measured', 'length', 'weighs', '26g', 'abyssinian', 'woodpecker', 'endemic', 'ethiopian', 'highland', 'central', 'eritrea', 'east', 'harar', 'ethiopia', 'river', 'alata', 'tributary', 'hanger', 'river', 'specie', 'occurs', 'juniper', 'wood', 'hagenia', 'forest', 'also', 'area', 'euphorbia', 'particularly', '1600m', '3000m', 'occasionally', 'higher', 'also', 'found', 'wooded', 'savanna', 'lower', 'altitude', 'biology', 'ecology', 'abyssinian', 'woodpecker', 'almost', 'unknown', 'unobtrusive', 'bird', 'probe', 'food', 'among', 'moss', 'growing', 'tree', 'thought', 'nesting', 'period', 'probably', 'run', 'december', 'may', 'abyssinian', 'woodpecker', 'large', 'range', 'hence', 'approach', 'threshold', 'vulnerable', 'currently', 'classed', 'least', 'concern', 'thought', 'decreasing', 'population', 'contracting', 'range', 'due', 'continuing', 'clearance', 'woodland']])\n",
    "\n",
    "# corpus/vocabulary\n",
    "corpus=np.unique(np.concatenate(articles),axis=0)\n",
    "#totalvocab_stemmed = np.array([0:len(corpus)])\n",
    "#print(totalvocab_stemmed)\n",
    "\n",
    "vocab_frame = pd.DataFrame({'words': corpus})\n",
    "print('there are ' + str(vocab_frame.shape[0]) + ' items in vocab_frame')\n",
    "\n",
    "Pi = np.array([0.19319787, 0.44964463, 0.02829765, 0.22951366, 0.09934619,\n",
    "              0.68091444, 0.02889871, 0.11734515, 0.02921026, 0.14363143,\n",
    "              0.44619695, 0.11603124, 0.07688231, 0.21371723, 0.14717228,\n",
    "              0.04372327, 0.15736951, 0.05675589, 0.38374274, 0.35840859,\n",
    "              0.09095947, 0.26223147, 0.215264  , 0.30168737, 0.12985769,\n",
    "              0.3201997 , 0.17479029, 0.24561528, 0.12654884, 0.13284589])\n",
    "Pi = np.reshape(Pi,[6,5])\n",
    "Pi\n",
    "\n",
    "tfidf_matrix = Pi"
   ]
  },
  {
   "cell_type": "code",
   "execution_count": 69,
   "metadata": {},
   "outputs": [],
   "source": [
    "from sklearn.metrics.pairwise import cosine_similarity\n",
    "dist = 1 - cosine_similarity(tfidf_matrix)\n",
    "#dist"
   ]
  },
  {
   "cell_type": "code",
   "execution_count": 41,
   "metadata": {},
   "outputs": [
    {
     "data": {
      "text/plain": [
       "[0, 1, 1, 2, 0, 1]"
      ]
     },
     "execution_count": 41,
     "metadata": {},
     "output_type": "execute_result"
    }
   ],
   "source": [
    "from sklearn.cluster import KMeans\n",
    "\n",
    "num_clusters = 3\n",
    "\n",
    "km = KMeans(n_clusters=num_clusters)\n",
    "\n",
    "km.fit(tfidf_matrix)\n",
    "\n",
    "clusters = km.labels_.tolist()\n",
    "clusters"
   ]
  },
  {
   "cell_type": "code",
   "execution_count": 42,
   "metadata": {},
   "outputs": [],
   "source": [
    "from sklearn.externals import joblib\n",
    "\n",
    "#uncomment the below to save your model \n",
    "#since I've already run my model I am loading from the pickle\n",
    "\n",
    "joblib.dump(km,  'doc_cluster.pkl')\n",
    "\n",
    "km = joblib.load('doc_cluster.pkl')\n",
    "clusters = km.labels_.tolist()"
   ]
  },
  {
   "cell_type": "code",
   "execution_count": 64,
   "metadata": {},
   "outputs": [
    {
     "data": {
      "text/html": [
       "<div>\n",
       "<style scoped>\n",
       "    .dataframe tbody tr th:only-of-type {\n",
       "        vertical-align: middle;\n",
       "    }\n",
       "\n",
       "    .dataframe tbody tr th {\n",
       "        vertical-align: top;\n",
       "    }\n",
       "\n",
       "    .dataframe thead th {\n",
       "        text-align: right;\n",
       "    }\n",
       "</style>\n",
       "<table border=\"1\" class=\"dataframe\">\n",
       "  <thead>\n",
       "    <tr style=\"text-align: right;\">\n",
       "      <th></th>\n",
       "      <th>specie</th>\n",
       "      <th>article</th>\n",
       "      <th>cluster</th>\n",
       "    </tr>\n",
       "  </thead>\n",
       "  <tbody>\n",
       "    <tr>\n",
       "      <th>0</th>\n",
       "      <td>bird1</td>\n",
       "      <td>[abdim, stork, ciconia, abdimii, also, known, ...</td>\n",
       "      <td>0</td>\n",
       "    </tr>\n",
       "    <tr>\n",
       "      <th>1</th>\n",
       "      <td>bird2</td>\n",
       "      <td>[abd, kuri, sparrow, passer, hemileucus, passe...</td>\n",
       "      <td>1</td>\n",
       "    </tr>\n",
       "    <tr>\n",
       "      <th>1</th>\n",
       "      <td>bird3</td>\n",
       "      <td>[nectarinia, sovimanga, souimanga, sunbird, ci...</td>\n",
       "      <td>1</td>\n",
       "    </tr>\n",
       "    <tr>\n",
       "      <th>2</th>\n",
       "      <td>bird4</td>\n",
       "      <td>[abyssian, wheatear, oenanthe, lugubris, speci...</td>\n",
       "      <td>2</td>\n",
       "    </tr>\n",
       "    <tr>\n",
       "      <th>0</th>\n",
       "      <td>bird5</td>\n",
       "      <td>[abyssinian, white, eye, white, breasted, whit...</td>\n",
       "      <td>0</td>\n",
       "    </tr>\n",
       "    <tr>\n",
       "      <th>1</th>\n",
       "      <td>bird6</td>\n",
       "      <td>[picus, abyssinicus, abyssinian, woodpecker, d...</td>\n",
       "      <td>1</td>\n",
       "    </tr>\n",
       "  </tbody>\n",
       "</table>\n",
       "</div>"
      ],
      "text/plain": [
       "  specie                                            article  cluster\n",
       "0  bird1  [abdim, stork, ciconia, abdimii, also, known, ...        0\n",
       "1  bird2  [abd, kuri, sparrow, passer, hemileucus, passe...        1\n",
       "1  bird3  [nectarinia, sovimanga, souimanga, sunbird, ci...        1\n",
       "2  bird4  [abyssian, wheatear, oenanthe, lugubris, speci...        2\n",
       "0  bird5  [abyssinian, white, eye, white, breasted, whit...        0\n",
       "1  bird6  [picus, abyssinicus, abyssinian, woodpecker, d...        1"
      ]
     },
     "execution_count": 64,
     "metadata": {},
     "output_type": "execute_result"
    }
   ],
   "source": [
    "import pandas as pd\n",
    "\n",
    "birds = { 'specie': species, 'article':articles, 'cluster': clusters }\n",
    "\n",
    "frame = pd.DataFrame(birds, index = [clusters] , columns = ['specie', 'article', 'cluster'])\n",
    "frame['cluster'].value_counts() #number of films per cluster (clusters from 0 to 4)\n",
    "frame"
   ]
  },
  {
   "cell_type": "code",
   "execution_count": 85,
   "metadata": {},
   "outputs": [],
   "source": [
    "import os  # for os.path.basename\n",
    "\n",
    "import matplotlib.pyplot as plt\n",
    "import matplotlib as mpl\n",
    "\n",
    "from sklearn.manifold import MDS\n",
    "\n",
    "MDS()\n",
    "\n",
    "# convert two components as we're plotting points in a two-dimensional plane\n",
    "# \"precomputed\" because we provide a distance matrix\n",
    "# we will also specify `random_state` so the plot is reproducible.\n",
    "mds = MDS(n_components=2, dissimilarity=\"precomputed\", random_state=1)\n",
    "\n",
    "pos = mds.fit_transform(dist)  # shape (n_components, n_samples)\n",
    "\n",
    "xs, ys = pos[:, 0], pos[:, 1]\n"
   ]
  },
  {
   "cell_type": "code",
   "execution_count": 86,
   "metadata": {},
   "outputs": [],
   "source": [
    "#set up colors per clusters using a dict\n",
    "cluster_colors = {0: '#1b9e77', 1: '#d95f02', 2: '#7570b3', 3: '#e7298a', 4: '#66a61e'}\n",
    "\n",
    "#set up cluster names using a dict WILL HAVE TO MANUALLY WRITE IN MOST COMMON WORDS\n",
    "cluster_names = {0: 'Family, home, war', \n",
    "                 1: 'Police, killed, murders', \n",
    "                 2: 'Father, New York, brothers', \n",
    "                 3: 'Dance, singing, love', \n",
    "                 4: 'Killed, soldiers, captain'}\n"
   ]
  },
  {
   "cell_type": "code",
   "execution_count": 95,
   "metadata": {},
   "outputs": [
    {
     "data": {
      "image/png": "[encoded data removed]",
      "text/plain": [
       "<Figure size 1224x648 with 1 Axes>"
      ]
     },
     "metadata": {},
     "output_type": "display_data"
    }
   ],
   "source": [
    "%matplotlib inline \n",
    "\n",
    "#create data frame that has the result of the MDS plus the cluster numbers and titles\n",
    "df = pd.DataFrame(dict(x=xs, y=ys, label=clusters, specie=species)) \n",
    "\n",
    "#group by cluster\n",
    "groups = df.groupby('label')\n",
    "\n",
    "\n",
    "# set up plot\n",
    "fig, ax = plt.subplots(figsize=(17, 9)) # set size\n",
    "ax.margins(0.05) # Optional, just adds 5% padding to the autoscaling\n",
    "\n",
    "#iterate through groups to layer the plot\n",
    "#note that I use the cluster_name and cluster_color dicts with the 'name' lookup to return the appropriate color/label\n",
    "for name, group in groups:\n",
    "    ax.plot(group.x, group.y, marker='o', linestyle='', ms=12, \n",
    "            label=cluster_names[name], color=cluster_colors[name], \n",
    "            mec='none')\n",
    "    ax.set_aspect('auto')\n",
    "    ax.tick_params(\\\n",
    "        axis= 'x',          # changes apply to the x-axis\n",
    "        which='both',      # both major and minor ticks are affected\n",
    "        bottom='off',      # ticks along the bottom edge are off\n",
    "        top='off',         # ticks along the top edge are off\n",
    "        labelbottom='off')\n",
    "    ax.tick_params(\\\n",
    "        axis= 'y',         # changes apply to the y-axis\n",
    "        which='both',      # both major and minor ticks are affected\n",
    "        left='off',      # ticks along the bottom edge are off\n",
    "        top='off',         # ticks along the top edge are off\n",
    "        labelleft='off')\n",
    "    \n",
    "ax.legend(numpoints=1)  #show legend with only 1 point\n",
    "\n",
    "#add label in x,y position with the label as the film title\n",
    "for i in range(len(df)):\n",
    "    ax.text(df.loc[i]['x'], df.loc[i]['y'], df.loc[i]['specie'], size=8)  \n",
    "\n",
    "    \n",
    "    \n",
    "plt.show() #show the plot\n",
    "\n",
    "#uncomment the below to save the plot if need be\n",
    "#plt.savefig('clusters_small_noaxes.png', dpi=200)"
   ]
  },
  {
   "cell_type": "code",
   "execution_count": 97,
   "metadata": {},
   "outputs": [
    {
     "data": {
      "image/png": "[encoded data removed]",
      "text/plain": [
       "<Figure size 1080x1440 with 1 Axes>"
      ]
     },
     "metadata": {
      "needs_background": "light"
     },
     "output_type": "display_data"
    }
   ],
   "source": [
    "from scipy.cluster.hierarchy import ward, dendrogram\n",
    "\n",
    "linkage_matrix = ward(dist) #define the linkage_matrix using ward clustering pre-computed distances\n",
    "\n",
    "fig, ax = plt.subplots(figsize=(15, 20)) # set size\n",
    "ax = dendrogram(linkage_matrix, orientation=\"right\", labels=species);\n",
    "\n",
    "plt.tick_params(\\\n",
    "    axis= 'x',          # changes apply to the x-axis\n",
    "    which='both',      # both major and minor ticks are affected\n",
    "    bottom='False',      # ticks along the bottom edge are off\n",
    "    top='False',         # ticks along the top edge are off\n",
    "    labelbottom='False')\n",
    "\n",
    "plt.tight_layout() #show plot with tight layout\n",
    "\n",
    "#uncomment below to save figure\n",
    "#plt.savefig('ward_clusters.png', dpi=200) #save figure as ward_clusters"
   ]
  },
  {
   "cell_type": "code",
   "execution_count": null,
   "metadata": {},
   "outputs": [],
   "source": []
  }
 ],
 "metadata": {
  "kernelspec": {
   "display_name": "Python 3",
   "language": "python",
   "name": "python3"
  },
  "language_info": {
   "codemirror_mode": {
    "name": "ipython",
    "version": 3
   },
   "file_extension": ".py",
   "mimetype": "text/x-python",
   "name": "python",
   "nbconvert_exporter": "python",
   "pygments_lexer": "ipython3",
   "version": "3.7.1"
  }
 },
 "nbformat": 4,
 "nbformat_minor": 2
}
