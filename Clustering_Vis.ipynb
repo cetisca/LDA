{
 "cells": [
  {
   "cell_type": "markdown",
   "metadata": {},
   "source": [
    "## Clustering Visualisation"
   ]
  },
  {
   "cell_type": "code",
   "execution_count": 1,
   "metadata": {},
   "outputs": [
    {
     "name": "stdout",
     "output_type": "stream",
     "text": [
      "(100, 5)\n",
      "<class 'numpy.ndarray'>\n"
     ]
    }
   ],
   "source": [
    "import numpy as np\n",
    "import pandas as pd\n",
    "\n",
    "data = np.load('prob100it5topcristiana.npy')\n",
    "print(np.shape(data))\n",
    "print(type(data))\n",
    "\n",
    "import os\n",
    "with open('list_of_species.txt', encoding='utf-8', errors='ignore') as f:\n",
    "    Names = f.readlines()\n",
    "Names = [x.strip() for x in Names]\n",
    "Names_100New = []\n",
    "for document in os.listdir( \"BoW_100random/\" ):\n",
    "    temp = Names[ int(document[:-8])-1 ]\n",
    "    #print( temp )\n",
    "    Names_100New.append( temp )\n"
   ]
  },
  {
   "cell_type": "code",
   "execution_count": null,
   "metadata": {},
   "outputs": [],
   "source": [
    "for topic in range(B.shape[0]):\n",
    "    print ('top 3 words associated with the highest probability in topic', topic+1,'are')\n",
    "    list = B[topic][np.argsort(B[topic])[-3:]]\n",
    "    no1 = list[0]\n",
    "    no2 = list[1]\n",
    "    no3 = list[2]\n",
    "    word1_index = np.where(B[topic] == no1)\n",
    "    word2_index = np.where(B[topic] == no2)\n",
    "    word3_index = np.where(B[topic] == no3)\n",
    "    word1 = corpus[word1_index[0][0]]\n",
    "    word2 = corpus[word2_index[0][0]]\n",
    "    word3 = corpus[word3_index[0][0]]\n",
    "    print(word1,word2,word3)"
   ]
  },
  {
   "cell_type": "code",
   "execution_count": 2,
   "metadata": {},
   "outputs": [
    {
     "name": "stdout",
     "output_type": "stream",
     "text": [
      "(100, 5)\n"
     ]
    }
   ],
   "source": [
    "#species = ['bird1', 'bird2', 'bird3', 'bird4', 'bird5', 'bird6']\n",
    "species = Names_100New\n",
    "\n",
    "articles = np.array([['abdim', 'stork', 'ciconia', 'abdimii', 'also', 'known', 'white', 'bellied', 'stork', 'black', 'stork', 'grey', 'leg', 'red', 'knee', 'foot', 'grey', 'bill', 'white', 'underpart', 'red', 'facial', 'skin', 'front', 'eye', 'blue', 'skin', 'near', 'bill', 'breeding', 'season', 'smallest', 'specie', 'stork', 'weight', 'lb', 'female', 'lay', 'two', 'three', 'egg', 'slightly', 'smaller', 'male', 'abdim', 'stork', 'distributed', 'open', 'habitat', 'throughout', 'eastern', 'africa', 'ethiopia', 'south', 'south', 'africa', 'diet', 'consists', 'mainly', 'locust', 'caterpillar', 'large', 'insect', 'although', 'bird', 'also', 'eat', 'small', 'reptile', 'amphibian', 'mouse', 'crab', 'egg', 'among', 'smallest', 'stork', 'specie', 'welcomed', 'protected', 'local', 'african', 'belief', 'harbinger', 'rain', 'good', 'luck', 'name', 'commemorates', 'turkish', 'governor', 'wadi', 'halfa', 'sudan', 'bey', 'arnaut', 'abdim', 'widespread', 'common', 'throughout', 'large', 'range', 'abdim', 'stork', 'evaluated', 'least', 'concern', 'iucn', 'red', 'list', 'threatened', 'specie', 'subject', 'several', 'nationally', 'coordinated', 'breeding', 'program', 'united', 'state', 'plan', 'specie', 'administered', 'association', 'zoo', 'aquarium', 'europe', 'european', 'association', 'zoo', 'aquarium', 'san', 'diego', 'zoo', 'egg', 'ciconia', 'abdimii', 'muséum', 'toulouse', 'africa', 'distribution', 'abdim', 'stork'], #each row represents an individual document\n",
    "                     ['abd', 'kuri', 'sparrow', 'passer', 'hemileucus', 'passerine', 'bird', 'endemic', 'small', 'island', 'abd', 'kuri', 'also', 'spelled', 'several', 'way', 'socotra', 'archiplago', 'indian', 'ocean', 'horn', 'africa', 'though', 'specie', 'originally', 'described', 'distinct', 'specie', 'considered', 'conspecific', 'socotra', 'sparrow', 'study', 'guy', 'kirwan', 'showed', 'significant', 'difference', 'socotra', 'sparrow', 'two', 'sparrow', 'might', 'even', 'different', 'origin', 'evidence', 'morphologically', 'distinct', 'birdlife', 'international', 'hence', 'iucn', 'red', 'list', 'recognised', 'specie', 'listed', 'ioc', 'world', 'bird', 'list', 'december', 'restricted', 'distribution', 'population', 'individual', 'despite', 'known', 'threat', 'considered', 'vulnerable', 'specie', 'iucn', 'red', 'list'],\n",
    "                     ['nectarinia', 'sovimanga', 'souimanga', 'sunbird', 'cinnyris', 'sovimanga', 'small', 'passerine', 'bird', 'sunbird', 'family', 'nectariniidae', 'native', 'island', 'western', 'indian', 'ocean', 'occurs', 'madagascar', 'aldabra', 'group', 'glorioso', 'island', 'souimanga', 'sunbird', 'long', 'wingspan', 'black', 'bill', 'long', 'thin', 'curved', 'male', 'nominate', 'subspecies', 'metallic', 'green', 'head', 'back', 'throat', 'breast', 'blackish', 'le', 'continuous', 'red', 'band', 'belly', 'yellow', 'wing', 'tail', 'brown', 'yellow', 'tuft', 'side', 'breast', 'become', 'visible', 'bird', 'lift', 'wing', 'courtship', 'display', 'male', 'presumably', 'moult', 'duller', 'eclipse', 'plumage', 'march', 'april', 'losing', 'metallic', 'red', 'feathering', 'month', 'female', 'grey', 'brown', 'upperparts', 'dull', 'yellow', 'belly', 'grey', 'throat', 'breast', 'darker', 'marking', 'juvenile', 'similar', 'adult', 'female', 'chin', 'throat', 'sometimes', 'black', 'upperparts', 'may', 'olive', 'abbott', 'sunbirds', 'see', 'larger', 'long', 'wingspan', 'male', 'broader', 'red', 'breastband', 'yellow', 'underpart', 'dark', 'brown', 'ssp', 'abbotti', 'blackish', 'ssp', 'buchenorum', 'male', 'bird', 'nominate', 'group', 'wing', 'tail', 'long', 'bill', 'female', 'measure', 'le', 'bird', 'chirruping', 'flight', 'call', 'loud', 'hoarse', 'alarm', 'call', 'male', 'sings', 'fast', 'scratchy', 'song', 'frequently', 'repeated', 'phrase', 'five', 'subspecies', 'nominate', 'subspecies', 'sovimanga', 'found', 'across', 'madagascar', 'glorioso', 'island', 'south', 'western', 'madagascar', 'replaced', 'apolis', 'aldabrensis', 'aldabra', 'atoll', 'abbotti', 'assumption', 'island', 'buchenorum', 'cosmoledo', 'astove', 'form', 'abbotti', 'buchenorum', 'sometimes', 'considered', 'separate', 'specie', 'abbott', 'sunbird', 'would', 'called', 'cinnyris', 'abbotti', 'citation', 'needed', 'sunbird', 'one', 'separated', 'former', 'catch', 'genus', 'nectarinia', 'cinnyris', 'citation', 'needed', 'together', 'malagasy', 'white', 'eye', 'madagascan', 'cisticola', 'souimanga', 'sunbirds', 'common', 'small', 'landbirds', 'across', 'much', 'range', 'ample', 'stock', 'present', 'specie', 'white', 'eye', 'exist', 'maybe', 'square', 'habitat', 'glorioso', 'island', 'iucn', 'considers', 'specie', 'least', 'concern', 'souimanga', 'sunbird', 'found', 'variety', 'habitat', 'mountain', 'forest', 'mangrove', 'scrubland', 'well', 'park', 'garden', 'human', 'modified', 'ecosystem', 'use', 'curved', 'bill', 'probe', 'flower', 'nectar', 'also', 'feed', 'insect', 'spider', 'natural', 'enemy', 'nest', 'inaccessible', 'predator', 'long', 'breeding', 'season', 'last', 'august', 'march', 'aldabra', 'least', 'nest', 'dome', 'shaped', 'entrance', 'hole', 'side', 'made', 'plant', 'material', 'grass', 'stem', 'coconut', 'fibre', 'leaf', 'usually', 'suspended', 'branch', 'metre', 'ground', 'may', 'built', 'building', 'sinkhole', 'within', 'eroded', 'coral', 'two', 'egg', 'laid', 'incubated', 'day', 'whitish', 'reddish', 'mottling', 'young', 'bird', 'fledge', 'day', 'nest', 'building', 'incubation', 'egg', 'done', 'female', 'also', 'play', 'greater', 'role', 'male', 'feeding', 'chick'],\n",
    "                     ['abyssian', 'wheatear', 'oenanthe', 'lugubris', 'specie', 'bird', 'family', 'muscicapidae', 'found', 'northwestern', 'africa', 'southern', 'kenya', 'northeastern', 'tanzania'],\n",
    "                     ['abyssinian', 'white', 'eye', 'white', 'breasted', 'white', 'eye', 'zosterops', 'abyssinicus', 'small', 'passerine', 'bird', 'belonging', 'genus', 'zosterops', 'white', 'eye', 'family', 'zosteropidae', 'native', 'north', 'east', 'africa', 'southern', 'arabia', 'long', 'upperparts', 'green', 'darker', 'greyer', 'northern', 'race', 'narrow', 'white', 'ring', 'around', 'eye', 'thin', 'black', 'line', 'bill', 'eye', 'underpart', 'vary', 'pale', 'yellow', 'greyish', 'white', 'depending', 'race', 'bird', 'various', 'twittering', 'buzzing', 'call', 'africa', 'occurs', 'north', 'east', 'sudan', 'south', 'eritrea', 'ethiopia', 'northern', 'somalia', 'kenya', 'north', 'east', 'tanzania', 'also', 'found', 'socotra', 'island', 'arabia', 'occurs', 'south', 'west', 'saudi', 'arabia', 'yemen', 'southern', 'oman', 'occurs', 'open', 'woodland', 'scrub', 'wadi', 'garden', 'found', 'metre', 'sea', 'level', 'africa', 'metre', 'arabia', 'usually', 'forage', 'among', 'branch', 'tree', 'sometimes', 'descends', 'ground', 'level', 'feed', 'mainly', 'insect', 'also', 'take', 'nectar', 'flower'],\n",
    "                     ['picus', 'abyssinicus', 'abyssinian', 'woodpecker', 'dendropicos', 'abyssinicus', 'also', 'known', 'golden', 'backed', 'woodpecker', 'golden', 'mantled', 'woodpecker', 'specie', 'bird', 'woodpecker', 'family', 'picidae', 'native', 'africa', 'occurs', 'eritrea', 'ethiopia', 'appears', 'close', 'relative', 'cardinal', 'woodpecker', 'dendropicos', 'fuscescens', 'abyssinian', 'woodpecker', 'small', 'woodpecker', 'relatively', 'long', 'broad', 'bill', 'golden', 'yellow', 'back', 'mantle', 'bright', 'red', 'rump', 'barred', 'wing', 'barred', 'tail', 'underpart', 'pale', 'heavily', 'streaked', 'black', 'head', 'striped', 'male', 'distinguished', 'red', 'nape', 'crown', 'brown', 'stripe', 'eye', 'golden', 'mantle', 'separate', 'specie', 'related', 'cardinal', 'woodpecker', 'measured', 'length', 'weighs', '26g', 'abyssinian', 'woodpecker', 'endemic', 'ethiopian', 'highland', 'central', 'eritrea', 'east', 'harar', 'ethiopia', 'river', 'alata', 'tributary', 'hanger', 'river', 'specie', 'occurs', 'juniper', 'wood', 'hagenia', 'forest', 'also', 'area', 'euphorbia', 'particularly', '1600m', '3000m', 'occasionally', 'higher', 'also', 'found', 'wooded', 'savanna', 'lower', 'altitude', 'biology', 'ecology', 'abyssinian', 'woodpecker', 'almost', 'unknown', 'unobtrusive', 'bird', 'probe', 'food', 'among', 'moss', 'growing', 'tree', 'thought', 'nesting', 'period', 'probably', 'run', 'december', 'may', 'abyssinian', 'woodpecker', 'large', 'range', 'hence', 'approach', 'threshold', 'vulnerable', 'currently', 'classed', 'least', 'concern', 'thought', 'decreasing', 'population', 'contracting', 'range', 'due', 'continuing', 'clearance', 'woodland']])\n",
    "\n",
    "# # corpus/vocabulary\n",
    "# corpus=np.unique(np.concatenate(articles),axis=0)\n",
    "# #totalvocab_stemmed = np.array([0:len(corpus)])\n",
    "# #print(totalvocab_stemmed)\n",
    "\n",
    "# vocab_frame = pd.DataFrame({'words': corpus})\n",
    "\n",
    "'''Pi = np.array([0.19319787, 0.44964463, 0.02829765, 0.22951366, 0.09934619,\n",
    "              0.68091444, 0.02889871, 0.11734515, 0.02921026, 0.14363143,\n",
    "              0.44619695, 0.11603124, 0.07688231, 0.21371723, 0.14717228,\n",
    "              0.04372327, 0.15736951, 0.05675589, 0.38374274, 0.35840859,\n",
    "              0.09095947, 0.26223147, 0.215264  , 0.30168737, 0.12985769,\n",
    "              0.3201997 , 0.17479029, 0.24561528, 0.12654884, 0.13284589])'''\n",
    "Pi = data\n",
    "#Pi = np.reshape(Pi,[6,5])\n",
    "print(np.shape(Pi))\n",
    "\n",
    "tfidf_matrix = Pi"
   ]
  },
  {
   "cell_type": "code",
   "execution_count": 3,
   "metadata": {},
   "outputs": [],
   "source": [
    "from sklearn.metrics.pairwise import cosine_similarity\n",
    "dist = 1 - cosine_similarity(tfidf_matrix)\n",
    "#dist"
   ]
  },
  {
   "cell_type": "code",
   "execution_count": 4,
   "metadata": {},
   "outputs": [],
   "source": [
    "from sklearn.cluster import KMeans\n",
    "\n",
    "num_clusters = 5\n",
    "\n",
    "km = KMeans(n_clusters=num_clusters)\n",
    "\n",
    "km.fit(tfidf_matrix)\n",
    "\n",
    "clusters = km.labels_.tolist()"
   ]
  },
  {
   "cell_type": "code",
   "execution_count": 5,
   "metadata": {},
   "outputs": [],
   "source": [
    "from sklearn.externals import joblib\n",
    "\n",
    "#uncomment the below to save your model \n",
    "#since I've already run my model I am loading from the pickle\n",
    "\n",
    "joblib.dump(km,  'doc_cluster_100_cristiana.pkl')\n",
    "\n",
    "km = joblib.load('doc_cluster_100_cristiana.pkl')\n",
    "clusters = km.labels_.tolist()"
   ]
  },
  {
   "cell_type": "code",
   "execution_count": 6,
   "metadata": {},
   "outputs": [
    {
     "name": "stdout",
     "output_type": "stream",
     "text": [
      "                        specie  cluster\n",
      "0     White-rimmed brush finch        0\n",
      "0                 Swee waxbill        0\n",
      "0      Saint Lucia black finch        0\n",
      "0              Black turnstone        0\n",
      "0      Spangle-cheeked tanager        0\n",
      "0          Saddle-billed stork        0\n",
      "0               Rufous babbler        0\n",
      "0      Plain-brown woodcreeper        0\n",
      "0       Pearly-breasted cuckoo        0\n",
      "0       MacGregor's honeyeater        0\n",
      "0               Kadavu fantail        0\n",
      "0               Jacobin cuckoo        0\n",
      "0                  Arctic tern        0\n",
      "0           Andaman masked owl        0\n",
      "0        Long-billed white-eye        0\n",
      "0       White-browed spinetail        0\n",
      "0             Ahanta francolin        0\n",
      "0           Yellow-bellied tit        0\n",
      "0       White-throated jacamar        0\n",
      "0        Black-crowned tchagra        0\n",
      "1       Tucumán mountain finch        1\n",
      "1             Blue-winged teal        1\n",
      "1        Blue-black kingfisher        1\n",
      "1      Lemon-bellied white-eye        1\n",
      "1         Malayan banded pitta        1\n",
      "1             Montane nightjar        1\n",
      "1                  Hen harrier        1\n",
      "1        Barred owlet-nightjar        1\n",
      "1              Pied honeyeater        1\n",
      "1             Ticking doradito        1\n",
      "..                         ...      ...\n",
      "3           Dieffenbach's rail        3\n",
      "3    Spot-throated woodcreeper        3\n",
      "3          Dusky-faced tanager        3\n",
      "3            Banded bay cuckoo        3\n",
      "3                Labrador duck        3\n",
      "3            Ihering's antwren        3\n",
      "3            Caquetá seedeater        3\n",
      "3             Abbott's babbler        3\n",
      "3            Brasília tapaculo        3\n",
      "3          Flores green pigeon        3\n",
      "3            Melodious babbler        3\n",
      "3       Swallow-tailed cotinga        3\n",
      "3             Paddyfield pipit        3\n",
      "3         Western capercaillie        3\n",
      "3        Rockefeller's sunbird        3\n",
      "3       Line-fronted canastero        3\n",
      "4   Black-breasted buttonquail        4\n",
      "4          Chubut steamer duck        4\n",
      "4            Moustached barbet        4\n",
      "4         Yellow-eyed starling        4\n",
      "4         Black-tipped cotinga        4\n",
      "4    Rufous-webbed bush tyrant        4\n",
      "4        Marquesan ground dove        4\n",
      "4      Red-breasted meadowlark        4\n",
      "4             Radde's accentor        4\n",
      "4          Puerto Rican oriole        4\n",
      "4    Black-hooded sierra finch        4\n",
      "4      Golden-naped woodpecker        4\n",
      "4         Common ringed plover        4\n",
      "4           European stonechat        4\n",
      "\n",
      "[100 rows x 2 columns]\n"
     ]
    }
   ],
   "source": [
    "import pandas as pd\n",
    "\n",
    "birds = { 'specie': species, 'cluster': clusters }\n",
    "\n",
    "frame = pd.DataFrame(birds, index = [clusters] , cSwee waxbillolumns = ['specie', 'cluster'])\n",
    "frame['cluster'].value_counts() #number of films per cluster (clusters from 0 to 4)\n",
    "print(frame.sort_values(by=['cluster']))"
   ]
  },
  {
   "cell_type": "code",
   "execution_count": 35,
   "metadata": {},
   "outputs": [],
   "source": [
    "import os  # for os.path.basename\n",
    "\n",
    "import matplotlib.pyplot as plt\n",
    "import matplotlib as mpl\n",
    "\n",
    "from sklearn.manifold import MDS\n",
    "\n",
    "MDS()\n",
    "\n",
    "# convert two components as we're plotting points in a two-dimensional plane\n",
    "# \"precomputed\" because we provide a distance matrix\n",
    "# we will also specify `random_state` so the plot is reproducible.\n",
    "mds = MDS(n_components=2, dissimilarity=\"precomputed\", random_state=1)\n",
    "\n",
    "pos = mds.fit_transform(dist)  # shape (n_components, n_samples)\n",
    "#print(pos)\n",
    "xs, ys = pos[:, 0], pos[:, 1]\n"
   ]
  },
  {
   "cell_type": "code",
   "execution_count": 13,
   "metadata": {},
   "outputs": [],
   "source": [
    "# from sklearn.decomposition import PCA\n",
    "# PCA()\n",
    "\n",
    "# pca = PCA(n_components=2,random_state=1)\n",
    "\n",
    "# pos = pca.fit_transform(dist)\n",
    "#  #print(pos)\n",
    "# xs, ys = pos[:, 0], pos[:, 1]"
   ]
  },
  {
   "cell_type": "code",
   "execution_count": 40,
   "metadata": {},
   "outputs": [],
   "source": [
    "#set up colors per clusters using a dict\n",
    "cluster_colors = {0: '#ff0000', 1: '#0000FF', 2: '#000000', 3: '#FFD700', 4: '#FF00FF'}\n",
    "\n",
    "#set up cluster names using a dict WILL HAVE TO MANUALLY WRITE IN MOST COMMON WORDS\n",
    "cluster_names = {0: 'Topic 0', \n",
    "                 1: 'Topic 1', \n",
    "                 2: 'Topic 2', \n",
    "                 3: 'Topic 3',\n",
    "                 4: 'Topic 4'}\n"
   ]
  },
  {
   "cell_type": "code",
   "execution_count": 72,
   "metadata": {},
   "outputs": [
    {
     "data": {
      "image/png": "[encoded data removed]",
      "text/plain": [
       "<Figure size 1224x648 with 1 Axes>"
      ]
     },
     "metadata": {},
     "output_type": "display_data"
    }
   ],
   "source": [
    "%matplotlib inline \n",
    "\n",
    "#create data frame that has the result of the MDS plus the cluster numbers and titles\n",
    "df = pd.DataFrame(dict(x=xs, y=ys, label=clusters, specie=species)) \n",
    "\n",
    "#group by cluster\n",
    "groups = df.groupby('label')\n",
    "\n",
    "\n",
    "# set up plot\n",
    "fig, ax = plt.subplots(figsize=(17, 9)) # set size\n",
    "ax.margins(0.05) # Optional, just adds 5% padding to the autoscaling\n",
    "plt.rcParams.update({'font.size': 14})\n",
    "#iterate through groups to layer the plot\n",
    "#note that I use the cluster_name and cluster_color dicts with the 'name' lookup to return the appropriate color/label\n",
    "for name, group in groups:\n",
    "    ax.plot(group.x, group.y, marker='o', linestyle='', ms=12, label=cluster_names[name], color=cluster_colors[name], mec='none')\n",
    "    #\n",
    "    ax.set_aspect('auto')\n",
    "#     ax.tick_params(\\\n",
    "#         axis= 'x',          # changes apply to the x-axis\n",
    "#         which='both',      # both major and minor ticks are affected\n",
    "#         bottom='False',      # ticks along the bottom edge are off\n",
    "#         top='False',         # ticks along the top edge are off\n",
    "#         labelbottom='False')\n",
    "#     ax.tick_params(\\\n",
    "#         axis= 'y',         # changes apply to the y-axis\n",
    "#         which='both',      # both major and minor ticks are affected\n",
    "#         left='False',      # ticks along the bottom edge are off\n",
    "#         top='False',         # ticks along the top edge are off\n",
    "#         labelleft='False')\n",
    "    \n",
    "ax.legend(numpoints=1)  #show legend with only 1 point\n",
    "plt.rcParams.update({'font.size': 14})\n",
    "ax.set_xlabel('x',fontsize=14)\n",
    "ax.set_ylabel('y',fontsize=14)\n",
    "plt.tick_params(labelsize=14)\n",
    "#add label in x,y position with the label as the film title\n",
    "# for i in range(len(df)):\n",
    "#     ax.text(df.loc[i]['x'], df.loc[i]['y'], df.loc[i]['specie'], size=8)  \n",
    "\n",
    "#uncomment the below to save the plot if need be\n",
    "plt.savefig('clusters_by_topic', dpi=200)\n",
    "    \n",
    "plt.show() #show the plot\n",
    "\n"
   ]
  },
  {
   "cell_type": "code",
   "execution_count": 74,
   "metadata": {},
   "outputs": [],
   "source": [
    "# from scipy.cluster.hierarchy import ward, dendrogram\n",
    "\n",
    "# linkage_matrix = ward(dist) #define the linkage_matrix using ward clustering pre-computed distances\n",
    "\n",
    "# fig, ax = plt.subplots(figsize=(15, 20)) # set size\n",
    "# ax = dendrogram(linkage_matrix, orientation=\"right\", labels=species);\n",
    "\n",
    "# plt.tick_params(\\\n",
    "#     axis= 'x',          # changes apply to the x-axis\n",
    "#     which='both',      # both major and minor ticks are affected\n",
    "#     bottom='False',      # ticks along the bottom edge are off\n",
    "#     top='False',         # ticks along the top edge are off\n",
    "#     labelbottom='False')\n",
    "\n",
    "# plt.tight_layout() #show plot with tight layout\n",
    "\n",
    "# #uncomment below to save figure\n",
    "# #plt.savefig('ward_clusters.png', dpi=200) #save figure as ward_clusters"
   ]
  },
  {
   "cell_type": "code",
   "execution_count": null,
   "metadata": {},
   "outputs": [],
   "source": []
  }
 ],
 "metadata": {
  "kernelspec": {
   "display_name": "Python 3",
   "language": "python",
   "name": "python3"
  },
  "language_info": {
   "codemirror_mode": {
    "name": "ipython",
    "version": 3
   },
   "file_extension": ".py",
   "mimetype": "text/x-python",
   "name": "python",
   "nbconvert_exporter": "python",
   "pygments_lexer": "ipython3",
   "version": "3.4.3"
  }
 },
 "nbformat": 4,
 "nbformat_minor": 2
}
